{
  "nbformat": 4,
  "nbformat_minor": 0,
  "metadata": {
    "colab": {
      "name": "Clustering with Gaussian Mixture Models.ipynb",
      "provenance": [],
      "authorship_tag": "ABX9TyPq2xqb/mlXYwdwsrbsO1Td",
      "include_colab_link": true
    },
    "kernelspec": {
      "name": "python3",
      "display_name": "Python 3"
    }
  },
  "cells": [
    {
      "cell_type": "markdown",
      "metadata": {
        "id": "view-in-github",
        "colab_type": "text"
      },
      "source": [
        "<a href=\"https://colab.research.google.com/github/AMElashal26/Unsupervised-Machine-Learning/blob/main/Clustering_with_Gaussian_Mixture_Models.ipynb\" target=\"_parent\"><img src=\"https://colab.research.google.com/assets/colab-badge.svg\" alt=\"Open In Colab\"/></a>"
      ]
    },
    {
      "cell_type": "code",
      "metadata": {
        "id": "pqnMxXs2SoKU"
      },
      "source": [
        "\n",
        "import numpy as np\n",
        "import pandas as pd\n",
        "import matplotlib.pyplot as plt\n",
        "from scipy.cluster.hierarchy import dendrogram, linkage\n",
        "from sklearn.preprocessing import StandardScaler\n",
        "from sklearn.mixture import GaussianMixture\n",
        "from sklearn import metrics\n",
        "from sqlalchemy import create_engine\n",
        "import warnings\n",
        "warnings.filterwarnings(\"ignore\")"
      ],
      "execution_count": 1,
      "outputs": []
    },
    {
      "cell_type": "code",
      "metadata": {
        "id": "gTfwrnyfSxg8"
      },
      "source": [
        "postgres_user = 'dsbc_student'\n",
        "postgres_pw = '7*.8G9QH21'\n",
        "postgres_host = '142.93.121.174'\n",
        "postgres_port = '5432'\n",
        "postgres_db = 'heartdisease'\n",
        "\n",
        "engine = create_engine('postgresql://{}:{}@{}:{}/{}'.format(\n",
        "    postgres_user, postgres_pw, postgres_host, postgres_port, postgres_db))\n",
        "heartdisease_df = pd.read_sql_query('select * from heartdisease',con=engine)\n",
        "\n",
        "# no need for an open connection, as we're only doing a single query\n",
        "engine.dispose()"
      ],
      "execution_count": 2,
      "outputs": []
    },
    {
      "cell_type": "code",
      "metadata": {
        "id": "j6gowTA_Szga"
      },
      "source": [
        "# Define the features and the outcome\n",
        "X = heartdisease_df.iloc[:, :13]\n",
        "y = heartdisease_df.iloc[:, 13]\n",
        "\n",
        "# Replace missing values (marked by ?) with a 0\n",
        "X = X.replace(to_replace='?', value=0)\n",
        "\n",
        "# Binarize y so that 1 means heart disease diagnosis and 0 means no diagnosis.\n",
        "y = np.where(y > 0, 0, 1)\n",
        "\n",
        "# Standardize the data.\n",
        "scaler = StandardScaler()\n",
        "X_std = scaler.fit_transform(X)"
      ],
      "execution_count": 3,
      "outputs": []
    },
    {
      "cell_type": "code",
      "metadata": {
        "colab": {
          "base_uri": "https://localhost:8080/"
        },
        "id": "CznuJnwxS1Lv",
        "outputId": "27482bca-a945-44aa-e4ba-8b8c99f65d62"
      },
      "source": [
        "# Defining the agglomerative clustering\n",
        "gmm_cluster = GaussianMixture(n_components=2, random_state=123)\n",
        "\n",
        "# Fit model\n",
        "clusters = gmm_cluster.fit_predict(X_std)\n",
        "\n",
        "print(\"ARI score: {}\".format(\n",
        "    metrics.adjusted_rand_score(y, clusters)))\n",
        "\n",
        "print(\"Silhouette score: {}\".format(\n",
        "    metrics.silhouette_score(X_std, clusters, metric='euclidean')))"
      ],
      "execution_count": 4,
      "outputs": [
        {
          "output_type": "stream",
          "text": [
            "ARI score: 0.18389186035089963\n",
            "Silhouette score: 0.13628813153331445\n"
          ],
          "name": "stdout"
        }
      ]
    },
    {
      "cell_type": "code",
      "metadata": {
        "colab": {
          "base_uri": "https://localhost:8080/"
        },
        "id": "vYkXelnAS5vk",
        "outputId": "940e812b-36b0-4819-bcf9-a6ba0cda991c"
      },
      "source": [
        "# Defining the agglomerative clustering\n",
        "gmm_cluster = GaussianMixture(n_components=2, random_state=123, covariance_type=\"full\")\n",
        "\n",
        "# Fit model\n",
        "clusters = gmm_cluster.fit_predict(X_std)\n",
        "\n",
        "print(\"ARI score with covariance_type=full: {}\".format(\n",
        "    metrics.adjusted_rand_score(y, clusters)))\n",
        "\n",
        "print(\"Silhouette score with covariance_type=full: {}\".format(\n",
        "    metrics.silhouette_score(X_std, clusters, metric='euclidean')))\n",
        "print(\"------------------------------------------------------\")\n",
        "\n",
        "# Defining the agglomerative clustering\n",
        "gmm_cluster = GaussianMixture(n_components=2, random_state=123, covariance_type=\"tied\")\n",
        "\n",
        "# Fit model\n",
        "clusters = gmm_cluster.fit_predict(X_std)\n",
        "\n",
        "print(\"ARI score with covariance_type=tied: {}\".format(\n",
        "    metrics.adjusted_rand_score(y, clusters)))\n",
        "\n",
        "print(\"Silhouette score with covariance_type=tied: {}\".format(\n",
        "    metrics.silhouette_score(X_std, clusters, metric='euclidean')))\n",
        "print(\"------------------------------------------------------\")\n",
        "\n",
        "# Defining the agglomerative clustering\n",
        "gmm_cluster = GaussianMixture(n_components=2, random_state=123, covariance_type=\"diag\")\n",
        "\n",
        "# Fit model\n",
        "clusters = gmm_cluster.fit_predict(X_std)\n",
        "\n",
        "print(\"ARI score with covariance_type=diag: {}\".format(\n",
        "    metrics.adjusted_rand_score(y, clusters)))\n",
        "\n",
        "print(\"Silhouette score with covariance_type=diag: {}\".format(\n",
        "    metrics.silhouette_score(X_std, clusters, metric='euclidean')))\n",
        "print(\"------------------------------------------------------\")\n",
        "\n",
        "\n",
        "# Defining the agglomerative clustering\n",
        "gmm_cluster = GaussianMixture(n_components=2, random_state=123, covariance_type=\"spherical\")\n",
        "\n",
        "# Fit model\n",
        "clusters = gmm_cluster.fit_predict(X_std)\n",
        "\n",
        "print(\"ARI score with covariance_type=spherical: {}\".format(\n",
        "    metrics.adjusted_rand_score(y, clusters)))\n",
        "\n",
        "print(\"Silhouette score with covariance_type=spherical: {}\".format(\n",
        "    metrics.silhouette_score(X_std, clusters, metric='euclidean')))\n",
        "print(\"------------------------------------------------------\")"
      ],
      "execution_count": 5,
      "outputs": [
        {
          "output_type": "stream",
          "text": [
            "ARI score with covariance_type=full: 0.18389186035089963\n",
            "Silhouette score with covariance_type=full: 0.13628813153331445\n",
            "------------------------------------------------------\n",
            "ARI score with covariance_type=tied: 0.18389186035089963\n",
            "Silhouette score with covariance_type=tied: 0.13628813153331445\n",
            "------------------------------------------------------\n",
            "ARI score with covariance_type=diag: 0.18389186035089963\n",
            "Silhouette score with covariance_type=diag: 0.13628813153331445\n",
            "------------------------------------------------------\n",
            "ARI score with covariance_type=spherical: 0.20765243525722465\n",
            "Silhouette score with covariance_type=spherical: 0.12468753110276873\n",
            "------------------------------------------------------\n"
          ],
          "name": "stdout"
        }
      ]
    },
    {
      "cell_type": "markdown",
      "metadata": {
        "id": "8MJPEm3NTItl"
      },
      "source": [
        "ARI of spherical is the highest, while its silhouette score is the lowest"
      ]
    },
    {
      "cell_type": "code",
      "metadata": {
        "id": "Ba_rY62ATCpz"
      },
      "source": [
        ""
      ],
      "execution_count": null,
      "outputs": []
    }
  ]
}
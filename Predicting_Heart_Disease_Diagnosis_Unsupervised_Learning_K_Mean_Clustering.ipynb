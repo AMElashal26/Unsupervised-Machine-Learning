{
  "nbformat": 4,
  "nbformat_minor": 0,
  "metadata": {
    "colab": {
      "name": "Predicting Heart Disease Diagnosis: Unsupervised Learning K-Mean Clustering.ipynb",
      "provenance": [],
      "authorship_tag": "ABX9TyOEIku42r8eh/OgceXI7y8N",
      "include_colab_link": true
    },
    "kernelspec": {
      "name": "python3",
      "display_name": "Python 3"
    }
  },
  "cells": [
    {
      "cell_type": "markdown",
      "metadata": {
        "id": "view-in-github",
        "colab_type": "text"
      },
      "source": [
        "<a href=\"https://colab.research.google.com/github/AMElashal26/Unsupervised-Machine-Learning/blob/main/Predicting_Heart_Disease_Diagnosis_Unsupervised_Learning_K_Mean_Clustering.ipynb\" target=\"_parent\"><img src=\"https://colab.research.google.com/assets/colab-badge.svg\" alt=\"Open In Colab\"/></a>"
      ]
    },
    {
      "cell_type": "code",
      "metadata": {
        "id": "A_4ArgA13B_e"
      },
      "source": [
        "\r\n",
        "import numpy as np\r\n",
        "import pandas as pd\r\n",
        "import matplotlib.pyplot as plt\r\n",
        "from sklearn.preprocessing import StandardScaler\r\n",
        "from sklearn.cluster import KMeans, MiniBatchKMeans\r\n",
        "from sklearn.decomposition import PCA\r\n",
        "from sklearn import datasets\r\n",
        "from sqlalchemy import create_engine\r\n",
        "import warnings\r\n",
        "warnings.filterwarnings(\"ignore\")"
      ],
      "execution_count": null,
      "outputs": []
    },
    {
      "cell_type": "code",
      "metadata": {
        "id": "i4nJwoX43KX0"
      },
      "source": [
        "#Loading the data from Sklearn's datasets\r\n",
        "iris = datasets.load_iris()\r\n",
        "X = iris.data\r\n",
        "y = iris.target\r\n",
        "\r\n",
        "# Standarizing the features\r\n",
        "scaler = StandardScaler()\r\n",
        "X_std = scaler.fit_transform(X)"
      ],
      "execution_count": null,
      "outputs": []
    },
    {
      "cell_type": "code",
      "metadata": {
        "id": "vto3mOC53Vhu"
      },
      "source": [
        "#Defining the k-means\r\n",
        "#We'll be testing different k-values here\r\n",
        "cluster_numbers = [2, 3, 4, 5, 6]\r\n",
        "kmeans_clusters = []\r\n",
        "for i in cluster_numbers:\r\n",
        "    k_means = KMeans(n_clusters=i, random_state=123)\r\n",
        "    kmeans_clusters.append(k_means.fit_predict(X_std))"
      ],
      "execution_count": null,
      "outputs": []
    },
    {
      "cell_type": "markdown",
      "metadata": {
        "id": "Km3grjCN3gdf"
      },
      "source": [
        "Let's Visualize the solutions for each K-means "
      ]
    },
    {
      "cell_type": "code",
      "metadata": {
        "id": "vrepNieR3t7a"
      },
      "source": [
        "pca = PCA(n_components=2).fit_transform(X_std)\r\n",
        "\r\n",
        "colours = 'rbg'\r\n",
        "for i, solution in enumerate(kmeans_clusters):\r\n",
        "    plt.figure(figsize=(10,5))\r\n",
        "    plt.text(np.mean(pca[:,0]), np.max(pca[:, 1]), \"K-means with k = {}\".format(cluster_numbers[i]),\r\n",
        "                 fontdict={'weight': 'bold', 'size': 50})\r\n",
        "    for i in range(pca.shape[0]):\r\n",
        "        plt.text(pca[i, 0], pca[i, 1], str(solution[i]),\r\n",
        "                 color=colours[y[i]],\r\n",
        "                 fontdict={'weight': 'bold', 'size': 50}\r\n",
        "            )\r\n",
        "\r\n",
        "    plt.xticks([])\r\n",
        "    plt.yticks([])\r\n",
        "    plt.axis('off')\r\n",
        "    plt.show()"
      ],
      "execution_count": null,
      "outputs": []
    },
    {
      "cell_type": "code",
      "metadata": {
        "id": "fuGcfkvvPeRC"
      },
      "source": [
        " import numpy as np\n",
        "import pandas as pd\n",
        "import matplotlib.pyplot as plt\n",
        "import seaborn as sns\n",
        "from sklearn.cluster import KMeans\n",
        "from sklearn.preprocessing import StandardScaler\n",
        "from sklearn.model_selection import train_test_split\n",
        "from sklearn.decomposition import PCA\n",
        "from sklearn import metrics\n",
        "from sqlalchemy import create_engine\n",
        "import warnings\n",
        "warnings.filterwarnings(\"ignore\")"
      ],
      "execution_count": null,
      "outputs": []
    },
    {
      "cell_type": "markdown",
      "metadata": {
        "id": "Yj_zBkWU4smh"
      },
      "source": [
        "Only the solutions involving k = [2,3] determine the linearly separated class as a single cluster. The others unnecessarily add a class to the cluster that is very cleanly indicated as belonging to a single cluster. The other classes, however, to the right of the separation are not able to be linearly separated. K=2 does them a disservice here, grouping mixed classes into one cluster. K=3 is optimal."
      ]
    },
    {
      "cell_type": "code",
      "metadata": {
        "id": "U93GRaLc3AD8"
      },
      "source": [
        ""
      ],
      "execution_count": null,
      "outputs": []
    },
    {
      "cell_type": "code",
      "metadata": {
        "id": "wlxs04vDP6sN"
      },
      "source": [
        "postgres_user = 'dsbc_student'\n",
        "postgres_pw = '7*.8G9QH21'\n",
        "postgres_host = '142.93.121.174'\n",
        "postgres_port = '5432'\n",
        "postgres_db = 'heartdisease'\n",
        "\n",
        "engine = create_engine('postgresql://{}:{}@{}:{}/{}'.format(\n",
        "    postgres_user, postgres_pw, postgres_host, postgres_port, postgres_db))\n",
        "heartdisease_df = pd.read_sql_query('select * from heartdisease',con=engine)\n",
        "\n",
        "# no need for an open connection, as we're only doing a single query\n",
        "engine.dispose()"
      ],
      "execution_count": null,
      "outputs": []
    },
    {
      "cell_type": "code",
      "metadata": {
        "id": "ry5sj_6MP-rx"
      },
      "source": [
        " # Define the features and the outcome\n",
        " X = heartdisease_df.iloc[:, :13]\n",
        " y = heartdisease_df.iloc[:, 13]\n",
        "\n",
        " # Replace missing values (marked by `?`) with a `0`\n",
        " X = X.replace(to_replace='?', value=0)\n",
        "\n",
        " # Binarize `y` so that `1` means heart disease diagnosis and `0` means no diagnosis\n",
        " y = np.where(y > 0, 0, 1)"
      ],
      "execution_count": null,
      "outputs": []
    },
    {
      "cell_type": "code",
      "metadata": {
        "id": "JvHjeUj4QXpO"
      },
      "source": [
        " # Define the features and the outcome\n",
        " X = heartdisease_df.iloc[:, :13]\n",
        " y = heartdisease_df.iloc[:, 13]\n",
        "\n",
        " # Replace missing values (marked by `?`) with a `0`\n",
        " X = X.replace(to_replace='?', value=0)\n",
        "\n",
        " # Binarize `y` so that `1` means heart disease diagnosis and `0` means no diagnosis\n",
        " y = np.where(y > 0, 0, 1)\n"
      ],
      "execution_count": null,
      "outputs": []
    },
    {
      "cell_type": "code",
      "metadata": {
        "colab": {
          "base_uri": "https://localhost:8080/",
          "height": 355
        },
        "id": "Z9-JcVU25pmg",
        "outputId": "f44d209e-f649-4008-d75f-3a1cc81bf37c"
      },
      "source": [
        "#Standardize the data.\r\n",
        "scaler = StandardScaler()\r\n",
        "X_std = scaler.fit_transform(X)\r\n",
        "\r\n",
        "# Reduce it to two components for visualization\r\n",
        "X_pca = PCA(2).fit_transform(X_std)\r\n",
        "\r\n",
        "# Calculate predicted values.\r\n",
        "y_pred = KMeans(n_clusters=2, random_state=123).fit_predict(X_std)\r\n",
        "\r\n",
        "# Plot the solution.\r\n",
        "plt.scatter(X_pca[:, 0], X_pca[:, 1], c=y_pred)\r\n",
        "plt.show()\r\n",
        "\r\n",
        "# Check the solution against the data.\r\n",
        "# You will learn about cross-tabs/contingency\r\n",
        "# tables in the next checkpoint\r\n",
        "print('Comparing k-means clusters against the data:')\r\n",
        "print(pd.crosstab(y_pred, y))"
      ],
      "execution_count": null,
      "outputs": [
        {
          "output_type": "display_data",
          "data": {
            "image/png": "[encoded data removed]",
            "text/plain": [
              "<Figure size 432x288 with 1 Axes>"
            ]
          },
          "metadata": {
            "tags": [],
            "needs_background": "light"
          }
        },
        {
          "output_type": "stream",
          "text": [
            "Comparing k-means clusters against the data:\n",
            "col_0    0    1\n",
            "row_0          \n",
            "0      101   13\n",
            "1       38  151\n"
          ],
          "name": "stdout"
        }
      ]
    },
    {
      "cell_type": "code",
      "metadata": {
        "id": "Y1BpRl4S5wly"
      },
      "source": [
        ""
      ],
      "execution_count": null,
      "outputs": []
    }
  ]
}